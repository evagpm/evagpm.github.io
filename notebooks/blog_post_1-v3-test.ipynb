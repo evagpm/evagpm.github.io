{
 "cells": [
  {
   "cell_type": "markdown",
   "id": "93c0444d",
   "metadata": {},
   "source": [
    "## 1 Create a Database\n",
    "\n",
    "We are going to create a database with with three datasets to efficiently access information"
   ]
  },
  {
   "cell_type": "markdown",
   "id": "d3be14bd",
   "metadata": {},
   "source": [
    "To do this, we will need the following imports"
   ]
  },
  {
   "cell_type": "code",
   "execution_count": 3,
   "id": "bd1c6330",
   "metadata": {},
   "outputs": [],
   "source": [
    "import pandas as pd\n",
    "import numpy as np\n",
    "import sqlite3"
   ]
  },
  {
   "cell_type": "markdown",
   "id": "29bedf66",
   "metadata": {},
   "source": [
    "### Temperatures table\n",
    "\n",
    "The temperatures dataset includes the temperatures for each month of a year for thousands of stations. There is separate file for each decade worth of years, so we add that decade to the url. Let's look at the data table for the most recent decade."
   ]
  },
  {
   "cell_type": "code",
   "execution_count": 3,
   "id": "04ae89ce",
   "metadata": {},
   "outputs": [
    {
     "data": {
      "text/html": [
       "<div>\n",
       "<style scoped>\n",
       "    .dataframe tbody tr th:only-of-type {\n",
       "        vertical-align: middle;\n",
       "    }\n",
       "\n",
       "    .dataframe tbody tr th {\n",
       "        vertical-align: top;\n",
       "    }\n",
       "\n",
       "    .dataframe thead th {\n",
       "        text-align: right;\n",
       "    }\n",
       "</style>\n",
       "<table border=\"1\" class=\"dataframe\">\n",
       "  <thead>\n",
       "    <tr style=\"text-align: right;\">\n",
       "      <th></th>\n",
       "      <th>ID</th>\n",
       "      <th>Year</th>\n",
       "      <th>VALUE1</th>\n",
       "      <th>VALUE2</th>\n",
       "      <th>VALUE3</th>\n",
       "      <th>VALUE4</th>\n",
       "      <th>VALUE5</th>\n",
       "      <th>VALUE6</th>\n",
       "      <th>VALUE7</th>\n",
       "      <th>VALUE8</th>\n",
       "      <th>VALUE9</th>\n",
       "      <th>VALUE10</th>\n",
       "      <th>VALUE11</th>\n",
       "      <th>VALUE12</th>\n",
       "    </tr>\n",
       "  </thead>\n",
       "  <tbody>\n",
       "    <tr>\n",
       "      <th>0</th>\n",
       "      <td>ACW00011604</td>\n",
       "      <td>2011</td>\n",
       "      <td>-83.0</td>\n",
       "      <td>-132.0</td>\n",
       "      <td>278.0</td>\n",
       "      <td>1040.0</td>\n",
       "      <td>1213.0</td>\n",
       "      <td>1663.0</td>\n",
       "      <td>1875.0</td>\n",
       "      <td>1723.0</td>\n",
       "      <td>1466.0</td>\n",
       "      <td>987.0</td>\n",
       "      <td>721.0</td>\n",
       "      <td>428.0</td>\n",
       "    </tr>\n",
       "    <tr>\n",
       "      <th>1</th>\n",
       "      <td>ACW00011604</td>\n",
       "      <td>2012</td>\n",
       "      <td>121.0</td>\n",
       "      <td>-98.0</td>\n",
       "      <td>592.0</td>\n",
       "      <td>646.0</td>\n",
       "      <td>1365.0</td>\n",
       "      <td>1426.0</td>\n",
       "      <td>1771.0</td>\n",
       "      <td>1748.0</td>\n",
       "      <td>1362.0</td>\n",
       "      <td>826.0</td>\n",
       "      <td>620.0</td>\n",
       "      <td>-234.0</td>\n",
       "    </tr>\n",
       "    <tr>\n",
       "      <th>2</th>\n",
       "      <td>ACW00011604</td>\n",
       "      <td>2013</td>\n",
       "      <td>-104.0</td>\n",
       "      <td>-93.0</td>\n",
       "      <td>-48.0</td>\n",
       "      <td>595.0</td>\n",
       "      <td>NaN</td>\n",
       "      <td>1612.0</td>\n",
       "      <td>1855.0</td>\n",
       "      <td>1802.0</td>\n",
       "      <td>1359.0</td>\n",
       "      <td>1042.0</td>\n",
       "      <td>601.0</td>\n",
       "      <td>NaN</td>\n",
       "    </tr>\n",
       "  </tbody>\n",
       "</table>\n",
       "</div>"
      ],
      "text/plain": [
       "            ID  Year  VALUE1  VALUE2  VALUE3  VALUE4  VALUE5  VALUE6  VALUE7  \\\n",
       "0  ACW00011604  2011   -83.0  -132.0   278.0  1040.0  1213.0  1663.0  1875.0   \n",
       "1  ACW00011604  2012   121.0   -98.0   592.0   646.0  1365.0  1426.0  1771.0   \n",
       "2  ACW00011604  2013  -104.0   -93.0   -48.0   595.0     NaN  1612.0  1855.0   \n",
       "\n",
       "   VALUE8  VALUE9  VALUE10  VALUE11  VALUE12  \n",
       "0  1723.0  1466.0    987.0    721.0    428.0  \n",
       "1  1748.0  1362.0    826.0    620.0   -234.0  \n",
       "2  1802.0  1359.0   1042.0    601.0      NaN  "
      ]
     },
     "execution_count": 3,
     "metadata": {},
     "output_type": "execute_result"
    }
   ],
   "source": [
    "interval = \"2011-2020\"\n",
    "temps_url = f\"https://raw.githubusercontent.com/PhilChodrow/PIC16B/master/datasets/noaa-ghcn/decades/{interval}.csv\"\n",
    "temperatures = pd.read_csv(temps_url)\n",
    "temperatures.head(3)"
   ]
  },
  {
   "cell_type": "markdown",
   "id": "883c3dd8",
   "metadata": {},
   "source": [
    "The way this data is set up is not tidy, since there are 12 temperatures values in each observation. To make it tidy, we want to have one row for each month. The temperature values are also in hundreths of a degree, so we want to divide them by degree. Let's make a function to do this."
   ]
  },
  {
   "cell_type": "code",
   "execution_count": 23,
   "id": "8c4d0052",
   "metadata": {},
   "outputs": [],
   "source": [
    "def prep_temp_df(df):\n",
    "    \"\"\"\n",
    "    This function tidys and cleans the data.\n",
    "    It makes each observation be the temperature for a station, year, and month\n",
    "    and neatens the new columns of month and temp\n",
    "    \n",
    "    Input: df - a dataframe of temperatures\n",
    "    \n",
    "    Outputs a restructured dataframe of the temperatures\n",
    "    \"\"\"\n",
    "    #We want to keep ID and Year as columns in the transformed table\n",
    "    df = df.set_index(keys=[\"ID\", \"Year\"])\n",
    "    \n",
    "    #Convert table\n",
    "    df = df.stack()\n",
    "    df = df.reset_index()\n",
    "    \n",
    "    #Make the new columns for Month and Temp look nice\n",
    "    df = df.rename(columns = {\"level_2\"  : \"Month\" , 0 : \"Temp\"})\n",
    "    df[\"Month\"] = df[\"Month\"].str[5:].astype(int)\n",
    "    df[\"Temp\"]  = df[\"Temp\"] / 100\n",
    "    return(df)"
   ]
  },
  {
   "cell_type": "markdown",
   "id": "9fbf6fba",
   "metadata": {},
   "source": [
    "Now we want to create a database."
   ]
  },
  {
   "cell_type": "code",
   "execution_count": 56,
   "id": "5d15cb62",
   "metadata": {},
   "outputs": [],
   "source": [
    "conn = sqlite3.connect(\"climate.db\")"
   ]
  },
  {
   "cell_type": "markdown",
   "id": "0c00b0df",
   "metadata": {},
   "source": [
    "Now we want to add the data, one decade file at a time. So for each decade, we will read in data from the url, prepare it, and add it to the temperatures table."
   ]
  },
  {
   "cell_type": "code",
   "execution_count": 57,
   "id": "ec623a1e",
   "metadata": {},
   "outputs": [],
   "source": [
    "#List with the start of each decade\n",
    "decades = np.arange(1901, 2021, 10)\n",
    "\n",
    "for start in decades:\n",
    "    interval = str(start) + \"-\" + str(start+9)\n",
    "    temps_url = f\"https://raw.githubusercontent.com/PhilChodrow/PIC16B/master/datasets/noaa-ghcn/decades/{interval}.csv\"\n",
    "    \n",
    "    #Create iterator to reach in chunk\n",
    "    df_iter = pd.read_csv(temps_url, chunksize = 100000)\n",
    "    \n",
    "    #Iterate through the file, adding chunks\n",
    "    for df in df_iter:\n",
    "        cleaned = prep_temp_df(df)\n",
    "        cleaned.to_sql(\"temperatures\", conn, if_exists = \"append\", index = False)"
   ]
  },
  {
   "cell_type": "markdown",
   "id": "ab330835",
   "metadata": {},
   "source": [
    "### Stations table\n",
    "\n",
    "Now we will get our next table from its url."
   ]
  },
  {
   "cell_type": "code",
   "execution_count": 10,
   "id": "adb0d6e0",
   "metadata": {},
   "outputs": [
    {
     "data": {
      "text/html": [
       "<div>\n",
       "<style scoped>\n",
       "    .dataframe tbody tr th:only-of-type {\n",
       "        vertical-align: middle;\n",
       "    }\n",
       "\n",
       "    .dataframe tbody tr th {\n",
       "        vertical-align: top;\n",
       "    }\n",
       "\n",
       "    .dataframe thead th {\n",
       "        text-align: right;\n",
       "    }\n",
       "</style>\n",
       "<table border=\"1\" class=\"dataframe\">\n",
       "  <thead>\n",
       "    <tr style=\"text-align: right;\">\n",
       "      <th></th>\n",
       "      <th>ID</th>\n",
       "      <th>LATITUDE</th>\n",
       "      <th>LONGITUDE</th>\n",
       "      <th>STNELEV</th>\n",
       "      <th>NAME</th>\n",
       "    </tr>\n",
       "  </thead>\n",
       "  <tbody>\n",
       "    <tr>\n",
       "      <th>0</th>\n",
       "      <td>ACW00011604</td>\n",
       "      <td>57.7667</td>\n",
       "      <td>11.8667</td>\n",
       "      <td>18.0</td>\n",
       "      <td>SAVE</td>\n",
       "    </tr>\n",
       "    <tr>\n",
       "      <th>1</th>\n",
       "      <td>AE000041196</td>\n",
       "      <td>25.3330</td>\n",
       "      <td>55.5170</td>\n",
       "      <td>34.0</td>\n",
       "      <td>SHARJAH_INTER_AIRP</td>\n",
       "    </tr>\n",
       "    <tr>\n",
       "      <th>2</th>\n",
       "      <td>AEM00041184</td>\n",
       "      <td>25.6170</td>\n",
       "      <td>55.9330</td>\n",
       "      <td>31.0</td>\n",
       "      <td>RAS_AL_KHAIMAH_INTE</td>\n",
       "    </tr>\n",
       "  </tbody>\n",
       "</table>\n",
       "</div>"
      ],
      "text/plain": [
       "            ID  LATITUDE  LONGITUDE  STNELEV                 NAME\n",
       "0  ACW00011604   57.7667    11.8667     18.0                 SAVE\n",
       "1  AE000041196   25.3330    55.5170     34.0   SHARJAH_INTER_AIRP\n",
       "2  AEM00041184   25.6170    55.9330     31.0  RAS_AL_KHAIMAH_INTE"
      ]
     },
     "execution_count": 10,
     "metadata": {},
     "output_type": "execute_result"
    }
   ],
   "source": [
    "stations_url = \"https://raw.githubusercontent.com/PhilChodrow/PIC16B/master/datasets/noaa-ghcn/station-metadata.csv\"\n",
    "stations = pd.read_csv(stations_url)\n",
    "stations.head(3)"
   ]
  },
  {
   "cell_type": "markdown",
   "id": "1c755d57",
   "metadata": {},
   "source": [
    "We will want to use this table to match countries. It turns out the first two characters of the ID match the FIPS 10-4 country code, so let's add that to our table"
   ]
  },
  {
   "cell_type": "code",
   "execution_count": 11,
   "id": "57d3344b",
   "metadata": {},
   "outputs": [],
   "source": [
    "stations[\"FIPS\"] = stations[\"ID\"].str[0:2]"
   ]
  },
  {
   "cell_type": "markdown",
   "id": "eb03e452",
   "metadata": {},
   "source": [
    "Now we can add this table directly to the database"
   ]
  },
  {
   "cell_type": "code",
   "execution_count": 58,
   "id": "2ad1e20e",
   "metadata": {},
   "outputs": [],
   "source": [
    "stations.to_sql(\"stations\", conn, if_exists = \"replace\", index = False)"
   ]
  },
  {
   "cell_type": "markdown",
   "id": "dc1a1f5d",
   "metadata": {},
   "source": [
    "### Countries table\n",
    "\n",
    "Lastly we are going to add our countries table. We can get it from the url below."
   ]
  },
  {
   "cell_type": "code",
   "execution_count": 14,
   "id": "cfaf34fd",
   "metadata": {},
   "outputs": [
    {
     "data": {
      "text/html": [
       "<div>\n",
       "<style scoped>\n",
       "    .dataframe tbody tr th:only-of-type {\n",
       "        vertical-align: middle;\n",
       "    }\n",
       "\n",
       "    .dataframe tbody tr th {\n",
       "        vertical-align: top;\n",
       "    }\n",
       "\n",
       "    .dataframe thead th {\n",
       "        text-align: right;\n",
       "    }\n",
       "</style>\n",
       "<table border=\"1\" class=\"dataframe\">\n",
       "  <thead>\n",
       "    <tr style=\"text-align: right;\">\n",
       "      <th></th>\n",
       "      <th>FIPS 10-4</th>\n",
       "      <th>ISO 3166</th>\n",
       "      <th>Name</th>\n",
       "    </tr>\n",
       "  </thead>\n",
       "  <tbody>\n",
       "    <tr>\n",
       "      <th>0</th>\n",
       "      <td>AF</td>\n",
       "      <td>AF</td>\n",
       "      <td>Afghanistan</td>\n",
       "    </tr>\n",
       "    <tr>\n",
       "      <th>1</th>\n",
       "      <td>AX</td>\n",
       "      <td>-</td>\n",
       "      <td>Akrotiri</td>\n",
       "    </tr>\n",
       "    <tr>\n",
       "      <th>2</th>\n",
       "      <td>AL</td>\n",
       "      <td>AL</td>\n",
       "      <td>Albania</td>\n",
       "    </tr>\n",
       "  </tbody>\n",
       "</table>\n",
       "</div>"
      ],
      "text/plain": [
       "  FIPS 10-4 ISO 3166         Name\n",
       "0        AF       AF  Afghanistan\n",
       "1        AX        -     Akrotiri\n",
       "2        AL       AL      Albania"
      ]
     },
     "execution_count": 14,
     "metadata": {},
     "output_type": "execute_result"
    }
   ],
   "source": [
    "countries_url = \"https://raw.githubusercontent.com/mysociety/gaze/master/data/fips-10-4-to-iso-country-codes.csv\"\n",
    "countries = pd.read_csv(countries_url)\n",
    "countries.head(3)"
   ]
  },
  {
   "cell_type": "markdown",
   "id": "f9ca4361",
   "metadata": {},
   "source": [
    "We are going to run into problems with SQL if the column names have spaces, so let's shorten those. It might also make sense to change Name to Country."
   ]
  },
  {
   "cell_type": "code",
   "execution_count": 15,
   "id": "de76ae6c",
   "metadata": {},
   "outputs": [
    {
     "data": {
      "text/html": [
       "<div>\n",
       "<style scoped>\n",
       "    .dataframe tbody tr th:only-of-type {\n",
       "        vertical-align: middle;\n",
       "    }\n",
       "\n",
       "    .dataframe tbody tr th {\n",
       "        vertical-align: top;\n",
       "    }\n",
       "\n",
       "    .dataframe thead th {\n",
       "        text-align: right;\n",
       "    }\n",
       "</style>\n",
       "<table border=\"1\" class=\"dataframe\">\n",
       "  <thead>\n",
       "    <tr style=\"text-align: right;\">\n",
       "      <th></th>\n",
       "      <th>FIPS</th>\n",
       "      <th>ISO</th>\n",
       "      <th>Country</th>\n",
       "    </tr>\n",
       "  </thead>\n",
       "  <tbody>\n",
       "    <tr>\n",
       "      <th>0</th>\n",
       "      <td>AF</td>\n",
       "      <td>AF</td>\n",
       "      <td>Afghanistan</td>\n",
       "    </tr>\n",
       "    <tr>\n",
       "      <th>1</th>\n",
       "      <td>AX</td>\n",
       "      <td>-</td>\n",
       "      <td>Akrotiri</td>\n",
       "    </tr>\n",
       "    <tr>\n",
       "      <th>2</th>\n",
       "      <td>AL</td>\n",
       "      <td>AL</td>\n",
       "      <td>Albania</td>\n",
       "    </tr>\n",
       "  </tbody>\n",
       "</table>\n",
       "</div>"
      ],
      "text/plain": [
       "  FIPS ISO      Country\n",
       "0   AF  AF  Afghanistan\n",
       "1   AX   -     Akrotiri\n",
       "2   AL  AL      Albania"
      ]
     },
     "execution_count": 15,
     "metadata": {},
     "output_type": "execute_result"
    }
   ],
   "source": [
    "countries = countries.rename(columns = {\"FIPS 10-4\":\"FIPS\", \"ISO 3166\":\"ISO\", \"Name\":\"Country\"})\n",
    "countries.head(3)"
   ]
  },
  {
   "cell_type": "markdown",
   "id": "9bb028eb",
   "metadata": {},
   "source": [
    "Then we can add this table to our database"
   ]
  },
  {
   "cell_type": "code",
   "execution_count": 59,
   "id": "a39f057a",
   "metadata": {},
   "outputs": [],
   "source": [
    "countries.to_sql(\"countries\", conn, if_exists = \"replace\", index = False)"
   ]
  },
  {
   "cell_type": "markdown",
   "id": "57d89a96",
   "metadata": {},
   "source": [
    "Since we are done adding to our database, we need to close the connection."
   ]
  },
  {
   "cell_type": "code",
   "execution_count": 60,
   "id": "b874fd83",
   "metadata": {},
   "outputs": [],
   "source": [
    "conn.close()"
   ]
  },
  {
   "cell_type": "markdown",
   "id": "ea086644",
   "metadata": {},
   "source": [
    "## 2 Write a Query Function\n",
    "\n",
    "Now we are going to write a function that will create table from the database using SQL"
   ]
  },
  {
   "cell_type": "markdown",
   "id": "155c8c61",
   "metadata": {},
   "source": [
    "We want to look at temperatures for a given countries for a given month in a range of years. We want the dataframe to have columns for the station name, latititude, longitude, and country, as well as year, month, and temperature of the reading.   \n",
    "\n",
    "To get this we will make a command. The command will select all of the columns from the abreviated name of table they came from. It will join the temperatures table with station, on id, and countries, on FIPS in order to do this. In the WHERE statement, we will include the conditions."
   ]
  },
  {
   "cell_type": "code",
   "execution_count": 4,
   "id": "6240fb2c",
   "metadata": {},
   "outputs": [],
   "source": [
    "def query_climate_database(country, year_begin, year_end, month):\n",
    "    \"\"\"\n",
    "    This function creates a dataframe of temperatures for stations in a country\n",
    "    for a given month and years from the climate database\n",
    "    \n",
    "    Inputs:\n",
    "    country - the country to look in\n",
    "    year_begin - the first year to gather data for\n",
    "    year_end - the last year to gather data for\n",
    "    month - the month of tempterature to look at\n",
    "    \n",
    "    Outputs a dataframe according to the specifications\n",
    "    \"\"\"\n",
    "    \n",
    "    #The command pulls data from all three tables by joining them\n",
    "    cmd = \"\"\"\n",
    "    SELECT S.name, S.latitude, S.longitude, C.country, T.year, T.month, T.temp\n",
    "    FROM temperatures T\n",
    "    LEFT JOIN stations S ON T.id = S.id\n",
    "    LEFT JOIN countries C ON C.FIPS = S.FIPS\n",
    "    WHERE C.country= \\\"\"\"\" + str(country) + \"\"\"\\\"\n",
    "    AND T.year >=\"\"\" + str(year_begin) + \"\"\"\n",
    "    AND T.year <=\"\"\" + str(year_end) + \"\"\"\n",
    "    AND T.month =\"\"\" + str(month)\n",
    "    \n",
    "    #Open the connection to execute the command\n",
    "    conn = sqlite3.connect(\"climate.db\")\n",
    "    df = pd.read_sql_query(cmd, conn)\n",
    "    conn.close()\n",
    "    return df"
   ]
  },
  {
   "cell_type": "markdown",
   "id": "b3bceb8c",
   "metadata": {},
   "source": [
    "Lets do an example where we look at temperatures in August for stations in Germany from 2009 to 2012."
   ]
  },
  {
   "cell_type": "code",
   "execution_count": 3,
   "id": "88a222a4",
   "metadata": {},
   "outputs": [
    {
     "data": {
      "text/html": [
       "<div>\n",
       "<style scoped>\n",
       "    .dataframe tbody tr th:only-of-type {\n",
       "        vertical-align: middle;\n",
       "    }\n",
       "\n",
       "    .dataframe tbody tr th {\n",
       "        vertical-align: top;\n",
       "    }\n",
       "\n",
       "    .dataframe thead th {\n",
       "        text-align: right;\n",
       "    }\n",
       "</style>\n",
       "<table border=\"1\" class=\"dataframe\">\n",
       "  <thead>\n",
       "    <tr style=\"text-align: right;\">\n",
       "      <th></th>\n",
       "      <th>NAME</th>\n",
       "      <th>LATITUDE</th>\n",
       "      <th>LONGITUDE</th>\n",
       "      <th>Country</th>\n",
       "      <th>Year</th>\n",
       "      <th>Month</th>\n",
       "      <th>Temp</th>\n",
       "    </tr>\n",
       "  </thead>\n",
       "  <tbody>\n",
       "    <tr>\n",
       "      <th>0</th>\n",
       "      <td>BREMEN</td>\n",
       "      <td>53.0464</td>\n",
       "      <td>8.7992</td>\n",
       "      <td>Germany</td>\n",
       "      <td>2009</td>\n",
       "      <td>8</td>\n",
       "      <td>18.46</td>\n",
       "    </tr>\n",
       "    <tr>\n",
       "      <th>1</th>\n",
       "      <td>BREMEN</td>\n",
       "      <td>53.0464</td>\n",
       "      <td>8.7992</td>\n",
       "      <td>Germany</td>\n",
       "      <td>2010</td>\n",
       "      <td>8</td>\n",
       "      <td>17.14</td>\n",
       "    </tr>\n",
       "    <tr>\n",
       "      <th>2</th>\n",
       "      <td>TRIER</td>\n",
       "      <td>49.7517</td>\n",
       "      <td>6.6467</td>\n",
       "      <td>Germany</td>\n",
       "      <td>2009</td>\n",
       "      <td>8</td>\n",
       "      <td>19.53</td>\n",
       "    </tr>\n",
       "  </tbody>\n",
       "</table>\n",
       "</div>"
      ],
      "text/plain": [
       "     NAME  LATITUDE  LONGITUDE  Country  Year  Month   Temp\n",
       "0  BREMEN   53.0464     8.7992  Germany  2009      8  18.46\n",
       "1  BREMEN   53.0464     8.7992  Germany  2010      8  17.14\n",
       "2   TRIER   49.7517     6.6467  Germany  2009      8  19.53"
      ]
     },
     "execution_count": 3,
     "metadata": {},
     "output_type": "execute_result"
    }
   ],
   "source": [
    "query_climate_database(\"Germany\", 2009, 2012, 8).head(3)"
   ]
  },
  {
   "cell_type": "markdown",
   "id": "206c76de",
   "metadata": {},
   "source": [
    "## 3 Write a Geographic Scatter Function for Yearly Temperature Increases\n",
    "\n",
    "Our next task is to create a function our query that will address the following question:\n",
    "\n",
    "*How does the average yearly change in temperature vary within a given country?*"
   ]
  },
  {
   "cell_type": "markdown",
   "id": "3bd3bc55",
   "metadata": {},
   "source": [
    "To do this we are going to group the data by station and find the change using linear regression. For this we will need a function to use in the apply."
   ]
  },
  {
   "cell_type": "code",
   "execution_count": 5,
   "id": "0c89074b",
   "metadata": {},
   "outputs": [],
   "source": [
    "from sklearn.linear_model import LinearRegression\n",
    "\n",
    "def coef(data_group):\n",
    "    \"\"\"\n",
    "    This function finds the linear regression equation for a data group\n",
    "    \n",
    "    Input: data_group - as data group from the groupby function\n",
    "    \n",
    "    Output the rounded first coefficient of the equation\n",
    "    \"\"\"\n",
    "    x = data_group[[\"Year\"]]\n",
    "    y = data_group[\"Temp\"]\n",
    "    LR = LinearRegression()\n",
    "    LR.fit(x,y)\n",
    "    return round(LR.coef_[0],3)"
   ]
  },
  {
   "cell_type": "markdown",
   "id": "a1ae9f62",
   "metadata": {},
   "source": [
    "We will do this with plotly."
   ]
  },
  {
   "cell_type": "code",
   "execution_count": 6,
   "id": "790a618c",
   "metadata": {},
   "outputs": [],
   "source": [
    "from plotly import express as px"
   ]
  },
  {
   "cell_type": "markdown",
   "id": "492d8544",
   "metadata": {},
   "source": [
    "Make function"
   ]
  },
  {
   "cell_type": "code",
   "execution_count": 7,
   "id": "9824b0b0",
   "metadata": {},
   "outputs": [],
   "source": [
    "def temperature_coefficient_plot(country, year_begin, year_end, month, min_obs, **kwargs):\n",
    "    df = query_climate_database(country, year_begin, year_end, month)\n",
    "    obs = df.groupby([\"NAME\"])[\"Month\"].transform(np.sum) / month\n",
    "    df = df[obs >= min_obs]\n",
    "    df = df.reset_index()\n",
    "    coefs = df.groupby([\"NAME\", \"LATITUDE\", \"LONGITUDE\"]).apply(coef).reset_index()\n",
    "    coefs[\"Yearly\\nIncrease\"] = coefs[0]\n",
    "    title = \"Yearly Temperature Increase in Month \" + str(month)\n",
    "    title += \"for stations in \" + country +\" \"+ str(year_begin)\n",
    "    title += \"-\" + str(year_end)\n",
    "    fig = px.scatter_mapbox(coefs,\n",
    "                            lat = \"LATITUDE\",\n",
    "                            lon = \"LONGITUDE\",\n",
    "                            color = \"Yearly\\nIncrease\",\n",
    "                            color_continuous_midpoint = 0,\n",
    "                            hover_name = \"NAME\",\n",
    "                            title = title,\n",
    "                            mapbox_style = \"carto-positron\",\n",
    "                            **kwargs)\n",
    "    return fig"
   ]
  },
  {
   "cell_type": "code",
   "execution_count": 8,
   "id": "5d82388b",
   "metadata": {},
   "outputs": [],
   "source": [
    "color_map = px.colors.diverging.RdGy_r # choose a colormap\n",
    "\n",
    "fig = temperature_coefficient_plot(\"India\", 1980, 2020, 1, \n",
    "                                   min_obs = 10,\n",
    "                                   zoom = 2,\n",
    "                                   #mapbox_style=\"carto-positron\",\n",
    "                                   color_continuous_scale=color_map)"
   ]
  },
  {
   "cell_type": "code",
   "execution_count": 9,
   "id": "f1df0d82",
   "metadata": {},
   "outputs": [],
   "source": [
    "from plotly.io import write_html\n",
    "write_html(fig, \"plot3.html\")"
   ]
  }
 ],
 "metadata": {
  "kernelspec": {
   "display_name": "Python [conda env:PIC16B]",
   "language": "python",
   "name": "conda-env-PIC16B-py"
  },
  "language_info": {
   "codemirror_mode": {
    "name": "ipython",
    "version": 3
   },
   "file_extension": ".py",
   "mimetype": "text/x-python",
   "name": "python",
   "nbconvert_exporter": "python",
   "pygments_lexer": "ipython3",
   "version": "3.8.12"
  }
 },
 "nbformat": 4,
 "nbformat_minor": 5
}
